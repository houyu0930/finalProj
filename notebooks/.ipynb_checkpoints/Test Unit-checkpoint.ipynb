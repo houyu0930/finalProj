{
 "cells": [
  {
   "cell_type": "code",
   "execution_count": 1,
   "metadata": {},
   "outputs": [
    {
     "name": "stderr",
     "output_type": "stream",
     "text": [
      "Using TensorFlow backend.\n"
     ]
    }
   ],
   "source": [
    "import keras"
   ]
  },
  {
   "cell_type": "code",
   "execution_count": 2,
   "metadata": {},
   "outputs": [
    {
     "data": {
      "text/plain": [
       "'/home/houyu/anaconda3/envs/env2/bin/python'"
      ]
     },
     "execution_count": 2,
     "metadata": {},
     "output_type": "execute_result"
    }
   ],
   "source": [
    "import sys\n",
    "sys.executable"
   ]
  },
  {
   "cell_type": "code",
   "execution_count": 3,
   "metadata": {},
   "outputs": [],
   "source": [
    "%matplotlib inline"
   ]
  },
  {
   "cell_type": "code",
   "execution_count": 2,
   "metadata": {},
   "outputs": [
    {
     "name": "stdout",
     "output_type": "stream",
     "text": [
      "â\n",
      "\n",
      "\n"
     ]
    }
   ],
   "source": [
    "print('\\xe2')\n",
    "print('\\x80')\n",
    "print('\\x9c')"
   ]
  },
  {
   "cell_type": "code",
   "execution_count": 3,
   "metadata": {},
   "outputs": [
    {
     "name": "stdout",
     "output_type": "stream",
     "text": [
      "ð   ¶\n"
     ]
    }
   ],
   "source": [
    "print( '\\xf0', '\\x9f', '\\x90', '\\xb6')"
   ]
  },
  {
   "cell_type": "code",
   "execution_count": 15,
   "metadata": {},
   "outputs": [
    {
     "name": "stdout",
     "output_type": "stream",
     "text": [
      "{'“': '\"', '”': '\"', '‘': \"'\", '’': \"'\", '；': ';', '：': ':', '《': '<', '》': '>', '，': ',', '。': '.', '！': '!', '？': '?', '【': '[', '】': ']', '（': '(', '）': ')', '％': '%', '＃': '#', '＠': '@', '＆': '&', '１': '1', '２': '2', '３': '3', '４': '4', '５': '5', '６': '6', '７': '7', '８': '8', '９': '9', '０': '0'}\n",
      "\"Worry is a down payment on a problem you may never have'.  Joyce Meyer.  #motivation #leadership #worry\n"
     ]
    }
   ],
   "source": [
    "text = \"“Worry is a down payment on a problem you may never have'.  Joyce Meyer.  #motivation #leadership #worry\"\n",
    "\n",
    "intab = u'“”‘’；：《》，。！？【】（）％＃＠＆１２３４５６７８９０'\n",
    "outtab = u'\"\"\\'\\';:<>,.!?[]()%#@&1234567890'\n",
    "table= {f:t for f,t in zip(intab,outtab)}\n",
    "print(table)\n",
    "\n",
    "for i in table:\n",
    "    # print(i)\n",
    "    if i in text:\n",
    "        # print(i)\n",
    "        # print(table[i])\n",
    "        text = text.replace(i,table[i])\n",
    "print(text)\n",
    "\n",
    "#text = text.maketrans(table)\n",
    "#text = text.translate(tanstab)\n",
    "#print(tex)"
   ]
  },
  {
   "cell_type": "code",
   "execution_count": 17,
   "metadata": {},
   "outputs": [
    {
     "data": {
      "text/plain": [
       "['😷😷']"
      ]
     },
     "execution_count": 17,
     "metadata": {},
     "output_type": "execute_result"
    }
   ],
   "source": [
    "import re\n",
    "\n",
    "test1 = '😷😷'\n",
    "test2 = '🎉👌🏻💙'\n",
    "RE_EMOJI = \"\\ud83c[\\udf00-\\udfff]|\\ud83d[\\udc00-\\ude4f\\ude80-\\udeff]|[\\u2600-\\u26FF\\u2700-\\u27BF]\"\n",
    "\n",
    "emoji_split = re.split(RE_EMOJI, test1)\n",
    "\n",
    "emoji_split"
   ]
  },
  {
   "cell_type": "code",
   "execution_count": null,
   "metadata": {},
   "outputs": [],
   "source": []
  }
 ],
 "metadata": {
  "kernelspec": {
   "display_name": "Python env2",
   "language": "python",
   "name": "python3"
  },
  "language_info": {
   "codemirror_mode": {
    "name": "ipython",
    "version": 3
   },
   "file_extension": ".py",
   "mimetype": "text/x-python",
   "name": "python",
   "nbconvert_exporter": "python",
   "pygments_lexer": "ipython3",
   "version": "3.6.8"
  }
 },
 "nbformat": 4,
 "nbformat_minor": 2
}
