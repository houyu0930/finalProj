{
 "cells": [
  {
   "cell_type": "code",
   "execution_count": 3,
   "metadata": {},
   "outputs": [],
   "source": [
    "import os\n",
    "os.environ[\"CUDA_DEVICE_ORDER\"]=\"PCI_BUS_ID\"   # see issue #152\n",
    "os.environ[\"CUDA_VISIBLE_DEVICES\"]=\"3\"\n",
    "\n",
    "import torch\n",
    "import numpy as np\n",
    "\n",
    "from trainer import load_embeddings\n",
    "from lib.tokenizer import preprocessor\n",
    "from lib.config import MODEL_EC, DEVICE\n",
    "from lib.data_utils import vectorize"
   ]
  },
  {
   "cell_type": "code",
   "execution_count": 4,
   "metadata": {},
   "outputs": [],
   "source": [
    "def sigmoid(x):\n",
    "    s = 1 / (1 + np.exp(-x))\n",
    "    return s"
   ]
  },
  {
   "cell_type": "code",
   "execution_count": null,
   "metadata": {},
   "outputs": [
    {
     "name": "stdout",
     "output_type": "stream",
     "text": [
      "Loading word embeddings: ntua_twitter_affect_310 ...\n",
      "Loaded word embeddings from cache.\n"
     ]
    }
   ],
   "source": [
    "labels = ['anger', 'anticipation', 'disgust', 'fear', 'joy', 'love', 'optimism', 'pessimism', 'sadness', 'surprise', 'trust', 'neutral']\n",
    "model_path = '/home/houyu/learning/FinalProject/out/model/EmotionClassification_0.5900_2019-05-06_00:51.model'\n",
    "model_conf = MODEL_EC\n",
    "max_length = 65  # 85 train 65 dev 58 test\n",
    "dev_path = '/home/houyu/learning/FinalProject/datasets/new/E-c-En-dev.txt'\n",
    "\n",
    "# Loading model\n",
    "model = torch.load(model_path)\n",
    "model.eval()\n",
    "word2idx, _, embeddings = load_embeddings(model_conf)\n",
    "\n",
    "head = 1\n",
    "cnt = 0\n",
    "with open(dev_path, 'r') as fin:\n",
    "    for line in fin.readlines():\n",
    "        if head == 1:\n",
    "            head = 0\n",
    "            continue\n",
    "        \n",
    "        items = line[:len(line)-1].split('\\t')\n",
    "        \n",
    "        input_text = items[1]\n",
    "\n",
    "        # Pre-processing inputs\n",
    "        pro_sent = preprocessor(input_text)\n",
    "\n",
    "        # Embedding and vectorize\n",
    "        sample = vectorize(pro_sent, word2idx, max_length)\n",
    "\n",
    "        # Processing to get model inputs\n",
    "        samples = []\n",
    "        lengths = []\n",
    "        samples.append(sample)\n",
    "        lengths.append(len(pro_sent))\n",
    "\n",
    "        samples = np.asarray(samples)\n",
    "        lengths = np.asarray(lengths)\n",
    "\n",
    "        samples = torch.tensor(samples)\n",
    "        lengths = torch.tensor(lengths)\n",
    "\n",
    "        samples = samples.to(DEVICE)\n",
    "        lengths = lengths.to(DEVICE)\n",
    "\n",
    "\n",
    "        # Running model\n",
    "        outputs, attentions = model(samples, lengths)\n",
    "\n",
    "        posts = outputs.data.cpu().numpy()\n",
    "        # predicted = np.clip(np.sign(posts), a_min=0, a_max=None)    # 1   1   0   0   0   0   1   0   0   0   1\n",
    "        # predicted = predicted.astype(np.int32)\n",
    "        \n",
    "        pro_sigmoid = sigmoid(posts)\n",
    "        predicted = np.clip(np.sign(pro_sigmoid - 0.5), a_min=0, a_max=None)\n",
    "        predicted = predicted.astype(np.int32)\n",
    "        \n",
    "        gold_labels = []\n",
    "        for item in items[2:13]:\n",
    "            gold_labels.append(int(item))\n",
    "        \n",
    "        gold_labels = np.asarray(gold_labels)\n",
    "        \n",
    "        acc = 0\n",
    "        and_ = (predicted & gold_labels).sum()\n",
    "        or_ = (predicted | gold_labels).sum()\n",
    "        if(or_ != 0):\n",
    "            acc = and_/or_\n",
    "        \n",
    "        # print(predicted)\n",
    "        # print(gold_labels)\n",
    "        # print(acc)\n",
    "        # pro_sigmoid = sigmoid(posts)\n",
    "        \n",
    "        # break\n",
    "        # if acc >= 0.98:            # <= 0.5 错误分析\n",
    "            # print(input_text)\n",
    "            # print(pro_sent)\n",
    "            # print(attentions)\n",
    "            # print(posts)\n",
    "            # print(pro_sigmoid)\n",
    "            # print(gold_labels)\n",
    "            # cnt += 1\n",
    "\n",
    "# cnt\n",
    "\n",
    "        atten_array = attentions.data.cpu().numpy()\n",
    "        # print(atten_array)\n",
    "        # 1.0 only one value\n",
    "        atten_set = set(atten_array)\n",
    "        # print(atten_set)\n",
    "        if len(atten_set)/len(pro_sent) >= 0.5 and acc >= 0.98:\n",
    "            print(acc)\n",
    "            print(input_text)\n",
    "            print(pro_sent)\n",
    "            print(atten_array)\n",
    "            print(posts)\n",
    "            print(gold_labels)"
   ]
  },
  {
   "cell_type": "code",
   "execution_count": 23,
   "metadata": {},
   "outputs": [
    {
     "data": {
      "text/plain": [
       "191"
      ]
     },
     "execution_count": 23,
     "metadata": {},
     "output_type": "execute_result"
    }
   ],
   "source": [
    "cnt # acc >= 0.9; 0.5 245, 0.3 191 => first model, # new model 252"
   ]
  },
  {
   "cell_type": "code",
   "execution_count": 20,
   "metadata": {},
   "outputs": [],
   "source": [
    "# 448 <= 0.5"
   ]
  },
  {
   "cell_type": "code",
   "execution_count": 25,
   "metadata": {},
   "outputs": [],
   "source": [
    "a = {1:[]}"
   ]
  },
  {
   "cell_type": "code",
   "execution_count": 26,
   "metadata": {},
   "outputs": [
    {
     "data": {
      "text/plain": [
       "{1}"
      ]
     },
     "execution_count": 26,
     "metadata": {},
     "output_type": "execute_result"
    }
   ],
   "source": [
    "a = set()\n",
    "a.add(1)\n",
    "a.add(1)\n",
    "a"
   ]
  },
  {
   "cell_type": "code",
   "execution_count": null,
   "metadata": {},
   "outputs": [],
   "source": []
  }
 ],
 "metadata": {
  "kernelspec": {
   "display_name": "Python env2",
   "language": "python",
   "name": "python3"
  },
  "language_info": {
   "codemirror_mode": {
    "name": "ipython",
    "version": 3
   },
   "file_extension": ".py",
   "mimetype": "text/x-python",
   "name": "python",
   "nbconvert_exporter": "python",
   "pygments_lexer": "ipython3",
   "version": "3.6.8"
  }
 },
 "nbformat": 4,
 "nbformat_minor": 2
}
