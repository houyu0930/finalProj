{
 "cells": [
  {
   "cell_type": "code",
   "execution_count": 5,
   "metadata": {},
   "outputs": [],
   "source": [
    "import os\n",
    "os.environ[\"CUDA_DEVICE_ORDER\"]=\"PCI_BUS_ID\"   # see issue #152\n",
    "os.environ[\"CUDA_VISIBLE_DEVICES\"]=\"3\"\n",
    "\n",
    "# VISUALIZATION\n",
    "import math\n",
    "import matplotlib.pyplot as plt; plt.rcdefaults()\n",
    "import numpy as np\n",
    "import matplotlib.pyplot as plt\n",
    "from IPython.core.display import display, HTML\n",
    "\n",
    "def rgb_to_hex(rgb):\n",
    "    return '#%02x%02x%02x' % rgb\n",
    "    \n",
    "def attention2color(attention_score):\n",
    "    r = 255 - int(attention_score * 255)\n",
    "    color = rgb_to_hex((255, r, r))\n",
    "    return str(color)"
   ]
  },
  {
   "cell_type": "code",
   "execution_count": 13,
   "metadata": {},
   "outputs": [
    {
     "name": "stdout",
     "output_type": "stream",
     "text": [
      "Loading word embeddings: ntua_twitter_affect_310 ...\n",
      "Loaded word embeddings from cache.\n"
     ]
    },
    {
     "data": {
      "text/html": [
       "<hr><p style='font-size: large'>Text: </br> </br><span style='background-color:#ffe8e8;'>you <span> <span style='background-color:#ffe8e8;'>all <span> <span style='background-color:#ffe8e8;'>do <span> <span style='background-color:#ffc0c0;'>not <span> <span style='background-color:#ffbebe;'>understand <span> <span style='background-color:#ffbebe;'>. <span> <span style='background-color:#ffbebe;'>this <span> <span style='background-color:#ffbfbf;'>woman <span> <span style='background-color:#ffbebe;'>' <span> <span style='background-color:#ffbebe;'>s <span> <span style='background-color:#ffbebe;'>wrath <span> <span style='background-color:#ffbebe;'>is <span> <span style='background-color:#ffbebe;'><allcaps> <span> <span style='background-color:#ffbebe;'>real <span> <span style='background-color:#ffbebe;'></allcaps> <span> <span style='background-color:#ffbebe;'>🌹 <span> <span style='background-color:#ffbebe;'>🖤 <span> </p> </br>"
      ],
      "text/plain": [
       "<IPython.core.display.HTML object>"
      ]
     },
     "metadata": {},
     "output_type": "display_data"
    },
    {
     "data": {
      "text/html": [
       "<hr><p style='font-size: large'>Text: </br> </br><span style='background-color:#ff8d8d;'><user> <span> <span style='background-color:#ff8d8d;'>bastard <span> <span style='background-color:#ff8d8d;'>squirrels <span> <span style='background-color:#ff8d8d;'>. <span> <span style='background-color:#ff8d8d;'>😡 <span> </p> </br>"
      ],
      "text/plain": [
       "<IPython.core.display.HTML object>"
      ]
     },
     "metadata": {},
     "output_type": "display_data"
    },
    {
     "data": {
      "text/html": [
       "<hr><p style='font-size: large'>Text: </br> </br><span style='background-color:#ffe2e2;'>i <span> <span style='background-color:#ffafaf;'>literally <span> <span style='background-color:#ffe1e1;'>love <span> <span style='background-color:#ffafaf;'>paul <span> <span style='background-color:#ffb0b0;'>so <span> <span style='background-color:#ffd0d0;'>much <span> <span style='background-color:#ffaeae;'><hashtag> <span> <span style='background-color:#ffdcdc;'>bb <span> <span style='background-color:#ffb0b0;'>19 <span> <span style='background-color:#ffaeae;'></hashtag> <span> <span style='background-color:#ffaeae;'>pissed <span> <span style='background-color:#ffaeae;'>😂 <span> </p> </br>"
      ],
      "text/plain": [
       "<IPython.core.display.HTML object>"
      ]
     },
     "metadata": {},
     "output_type": "display_data"
    }
   ],
   "source": [
    "import torch\n",
    "import numpy as np\n",
    "\n",
    "from trainer import load_embeddings\n",
    "from lib.tokenizer import preprocessor\n",
    "from lib.config import MODEL_EC, DEVICE\n",
    "from lib.data_utils import vectorize\n",
    "\n",
    "labels = ['anger', 'anticipation', 'disgust', 'fear', 'joy', 'love', 'optimism', 'pessimism', 'sadness', 'surprise', 'trust', 'neutral']\n",
    "model_path = '/home/houyu/learning/FinalProject/out/model/EmotionClassification_0.5900_2019-05-06_00:51.model'\n",
    "model_conf = MODEL_EC\n",
    "max_length = 65  # 85 train 65 dev 58 test\n",
    "\n",
    "test_data = [\n",
    "    \"y'all don't understand. this woman's wrath is REAL. 🌹🖤\",\n",
    "    \"@andyfleming83 Bastard squirrels. 😡\",\n",
    "    \"I literally love Paul so much #BB19 #pissed 😂\"\n",
    "]\n",
    "\n",
    "'''\n",
    "labels = [\n",
    "    [1 0 1 0 0 0 0 0 0 0 0],\n",
    "]\n",
    "'''\n",
    "\n",
    "# Loading model\n",
    "model = torch.load(model_path)\n",
    "model.eval()\n",
    "word2idx, _, embeddings = load_embeddings(model_conf)\n",
    "\n",
    "\n",
    "for sentence, label in zip(test_data, labels): \n",
    "    \n",
    "    input_text = sentence\n",
    "    \n",
    "    # Pre-processing inputs\n",
    "    pro_sent = preprocessor(input_text)\n",
    "\n",
    "    # Embedding and vectorize\n",
    "    sample = vectorize(pro_sent, word2idx, max_length)\n",
    "\n",
    "    # Processing to get model inputs\n",
    "    samples = []\n",
    "    lengths = []\n",
    "    samples.append(sample)\n",
    "    lengths.append(len(pro_sent))\n",
    "\n",
    "    samples = torch.tensor(np.asarray(samples)).to(DEVICE)\n",
    "    lengths = torch.tensor(np.asarray(lengths)).to(DEVICE)\n",
    "\n",
    "    # Running model\n",
    "    outputs, attentions = model(samples, lengths)\n",
    "    posts = outputs.data.cpu().numpy()\n",
    "    predicted = np.clip(np.sign(posts), a_min=0, a_max=None)    # 1   1   0   0   0   0   1   0   0   0   1\n",
    "    predicted = predicted.astype(np.int32)    \n",
    "\n",
    "    atten_array = attentions.data.cpu().numpy()    \n",
    "    \n",
    "    token_attention_dic = {}\n",
    "    for idx, token in enumerate(pro_sent):\n",
    "        token_attention_dic[token] = math.sqrt(atten_array[idx])\n",
    "    \n",
    "    # print(token_attention_dic)\n",
    "    \n",
    "    # Build HTML String to viualize attentions\n",
    "    html_text = \"<hr><p style='font-size: large'>Text: </br> </br>\"\n",
    "    for token, attention in token_attention_dic.items():\n",
    "        html_text += \"<span style='background-color:{};'>{} <span> \".format(attention2color(attention),\n",
    "                                                                            token)\n",
    "    html_text += \"</p> </br>\"\n",
    "    \n",
    "    # Display text enriched with attention scores \n",
    "    display(HTML(html_text))"
   ]
  }
 ],
 "metadata": {
  "kernelspec": {
   "display_name": "Python env2",
   "language": "python",
   "name": "python3"
  },
  "language_info": {
   "codemirror_mode": {
    "name": "ipython",
    "version": 3
   },
   "file_extension": ".py",
   "mimetype": "text/x-python",
   "name": "python",
   "nbconvert_exporter": "python",
   "pygments_lexer": "ipython3",
   "version": "3.6.8"
  }
 },
 "nbformat": 4,
 "nbformat_minor": 2
}
